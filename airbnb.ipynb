{
 "cells": [
  {
   "cell_type": "code",
   "execution_count": null,
   "id": "23dc33cb-bd70-4812-ad23-bfa6d710a8de",
   "metadata": {},
   "outputs": [],
   "source": [
    "import pandas as pd\n",
    "import folium\n",
    "from folium.plugins import MarkerCluster, HeatMap\n",
    "\n",
    "df_airbnb = pd.read_csv('listings.csv')"
   ]
  },
  {
   "cell_type": "code",
   "execution_count": null,
   "id": "5a1b54cb-680d-4d47-85a8-4383dfc07a08",
   "metadata": {},
   "outputs": [],
   "source": [
    "df_airbnb.shape"
   ]
  },
  {
   "cell_type": "code",
   "execution_count": null,
   "id": "64c2b794-53fe-48cb-9a12-5600191c4a8e",
   "metadata": {},
   "outputs": [],
   "source": [
    "df_airbnb.columns"
   ]
  },
  {
   "cell_type": "code",
   "execution_count": null,
   "id": "2911d452-f22f-4de5-b681-2cc03ec2776c",
   "metadata": {},
   "outputs": [],
   "source": [
    "df_airbnb.head()"
   ]
  },
  {
   "cell_type": "code",
   "execution_count": null,
   "id": "64b6368c-8917-4876-a36e-da98b9448791",
   "metadata": {},
   "outputs": [],
   "source": [
    "df_airbnb.dtypes"
   ]
  },
  {
   "cell_type": "code",
   "execution_count": null,
   "id": "b0e42404-8c13-4342-bbd7-3a4928168b13",
   "metadata": {},
   "outputs": [],
   "source": [
    "df_airbnb.isna().sum()"
   ]
  },
  {
   "cell_type": "code",
   "execution_count": null,
   "id": "5ccbc9a2-e14b-40cf-8367-0b383fe78490",
   "metadata": {},
   "outputs": [],
   "source": [
    "df_airbnb = df_airbnb.drop(['name', 'host_name', 'neighbourhood_group', 'last_review', 'reviews_per_month', 'license'], axis=1)"
   ]
  },
  {
   "cell_type": "code",
   "execution_count": null,
   "id": "594b34a3-e641-4ae5-9801-8b8cae661b39",
   "metadata": {},
   "outputs": [],
   "source": [
    "df_airbnb['price'] = df_airbnb['price'].fillna(0)"
   ]
  },
  {
   "cell_type": "code",
   "execution_count": null,
   "id": "cdd1708b-f5b6-4457-86be-f522565678f5",
   "metadata": {},
   "outputs": [],
   "source": [
    "df_airbnb.isna().sum()"
   ]
  },
  {
   "cell_type": "code",
   "execution_count": null,
   "id": "bfd50758-d7d9-434c-9f1e-352ba2897b82",
   "metadata": {},
   "outputs": [],
   "source": [
    "# Criar mapa base centrado no RJ\n",
    "mapa_rj = folium.Map(location=[-22.9068, -43.1729], zoom_start=11)\n",
    "\n",
    "# Criar cluster de marcadores\n",
    "marker_cluster = MarkerCluster().add_to(mapa_rj)\n",
    "\n",
    "# Adicionar marcadores ao cluster para todos os registros\n",
    "for _, row in df_airbnb.iterrows():\n",
    "    folium.Marker(\n",
    "        location=[row['latitude'], row['longitude']],\n",
    "        popup=(\n",
    "            f\"Preço: R${row['price']:.2f}<br>\"\n",
    "            f\"Bairro: {row['neighbourhood']}<br>\"\n",
    "            f\"Tipo: {row['room_type']}\"\n",
    "        ),\n",
    "        icon=folium.Icon(color='blue', icon='home', prefix='fa')\n",
    "    ).add_to(marker_cluster)\n",
    "\n",
    "# Exibir mapa\n",
    "mapa_rj"
   ]
  },
  {
   "cell_type": "code",
   "execution_count": null,
   "id": "4a4af459-ab0a-4e92-824b-15d91b0a1f68",
   "metadata": {},
   "outputs": [],
   "source": [
    "#Função para definir cores para faixas de valores\n",
    "def definir_cor(preco):\n",
    "    if preco <= 500:\n",
    "        return 'green'\n",
    "    elif preco <= 1000:\n",
    "        return 'orange'\n",
    "    else:\n",
    "        return 'red'\n",
    "\n",
    "mapa_preco = folium.Map(location=[-22.9068, -43.1729], zoom_start=11)\n",
    "\n",
    "# Adicionar apenas marcadores com cor, sem popups e com preço > 0\n",
    "for _, row in df_airbnb.iterrows():\n",
    "    preco = row['price']\n",
    "    if preco > 0:\n",
    "        cor = definir_cor(preco)\n",
    "        folium.CircleMarker(\n",
    "            location=[row['latitude'], row['longitude']],\n",
    "            radius=3.5,\n",
    "            color=cor,\n",
    "            fill=True,\n",
    "            fill_color=cor,\n",
    "            fill_opacity=0.7,\n",
    "            weight=0.5\n",
    "        ).add_to(mapa_preco)\n",
    "\n",
    "# Exibir o mapa\n",
    "mapa_preco"
   ]
  },
  {
   "cell_type": "code",
   "execution_count": null,
   "id": "90aeeaef-e629-4ef0-9fdc-12b1e9228e2d",
   "metadata": {},
   "outputs": [],
   "source": [
    "# Filtrar imóveis com avaliações\n",
    "df_reviews = df_airbnb[df_airbnb['number_of_reviews'] > 0]\n",
    "\n",
    "# Criar mapa base\n",
    "mapa_reviews = folium.Map(location=[-22.9068, -43.1729], zoom_start=11)\n",
    "\n",
    "# Adicionar camada HeatMap ponderada por número de avaliações\n",
    "HeatMap(\n",
    "    data=df_reviews[['latitude', 'longitude', 'number_of_reviews']].values,\n",
    "    radius=10,\n",
    "    max_zoom=13,\n",
    "    blur=15\n",
    ").add_to(mapa_reviews)\n",
    "\n",
    "# Exibir o mapa\n",
    "mapa_reviews"
   ]
  }
 ],
 "metadata": {
  "kernelspec": {
   "display_name": "Python [conda env:base] *",
   "language": "python",
   "name": "conda-base-py"
  },
  "language_info": {
   "codemirror_mode": {
    "name": "ipython",
    "version": 3
   },
   "file_extension": ".py",
   "mimetype": "text/x-python",
   "name": "python",
   "nbconvert_exporter": "python",
   "pygments_lexer": "ipython3",
   "version": "3.12.7"
  }
 },
 "nbformat": 4,
 "nbformat_minor": 5
}
